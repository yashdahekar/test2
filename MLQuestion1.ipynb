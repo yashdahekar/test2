{
 "cells": [
  {
   "cell_type": "code",
   "execution_count": 1,
   "metadata": {},
   "outputs": [],
   "source": [
    "import pandas as pd\n",
    "import numpy as np\n",
    "from sklearn.model_selection import train_test_split\n",
    "from sklearn.ensemble import RandomForestRegressor\n",
    "from sklearn.metrics import mean_squared_error"
   ]
  },
  {
   "cell_type": "code",
   "execution_count": 2,
   "metadata": {},
   "outputs": [],
   "source": [
    "data = pd.read_csv(\"instagram_reach.csv\") "
   ]
  },
  {
   "cell_type": "code",
   "execution_count": 3,
   "metadata": {},
   "outputs": [
    {
     "data": {
      "text/html": [
       "<div>\n",
       "<style scoped>\n",
       "    .dataframe tbody tr th:only-of-type {\n",
       "        vertical-align: middle;\n",
       "    }\n",
       "\n",
       "    .dataframe tbody tr th {\n",
       "        vertical-align: top;\n",
       "    }\n",
       "\n",
       "    .dataframe thead th {\n",
       "        text-align: right;\n",
       "    }\n",
       "</style>\n",
       "<table border=\"1\" class=\"dataframe\">\n",
       "  <thead>\n",
       "    <tr style=\"text-align: right;\">\n",
       "      <th></th>\n",
       "      <th>Unnamed: 0</th>\n",
       "      <th>S.No</th>\n",
       "      <th>USERNAME</th>\n",
       "      <th>Caption</th>\n",
       "      <th>Followers</th>\n",
       "      <th>Hashtags</th>\n",
       "      <th>Time since posted</th>\n",
       "      <th>Likes</th>\n",
       "    </tr>\n",
       "  </thead>\n",
       "  <tbody>\n",
       "    <tr>\n",
       "      <th>34</th>\n",
       "      <td>7</td>\n",
       "      <td>17</td>\n",
       "      <td>gsmusicgroupllc</td>\n",
       "      <td>gsmusicgroupllc#Repost @savageland32with @get_...</td>\n",
       "      <td>226</td>\n",
       "      <td>#youtube #applemusic #itunes#soundcloud #spinr...</td>\n",
       "      <td>2 hours</td>\n",
       "      <td>273</td>\n",
       "    </tr>\n",
       "    <tr>\n",
       "      <th>17</th>\n",
       "      <td>17</td>\n",
       "      <td>22</td>\n",
       "      <td>ale_borba</td>\n",
       "      <td>Let's talk about ML Kit for our Google Play Pa...</td>\n",
       "      <td>520</td>\n",
       "      <td>#MxPartnerDay #MLKit #machinelearning#android ...</td>\n",
       "      <td>4 hours</td>\n",
       "      <td>46</td>\n",
       "    </tr>\n",
       "    <tr>\n",
       "      <th>87</th>\n",
       "      <td>0</td>\n",
       "      <td>9</td>\n",
       "      <td>onlyonecoops</td>\n",
       "      <td>Love coaching these boys! Hard working, dedica...</td>\n",
       "      <td>262</td>\n",
       "      <td>#grassroots #development#kidsplayingfootball #...</td>\n",
       "      <td>2 hours</td>\n",
       "      <td>9</td>\n",
       "    </tr>\n",
       "    <tr>\n",
       "      <th>18</th>\n",
       "      <td>18</td>\n",
       "      <td>23</td>\n",
       "      <td>amjstaffing</td>\n",
       "      <td>Shout out to #LinkedIn for the awesome lunch-n...</td>\n",
       "      <td>75</td>\n",
       "      <td>#engineer #machinelearning #automotive#automat...</td>\n",
       "      <td>4 hours</td>\n",
       "      <td>30</td>\n",
       "    </tr>\n",
       "    <tr>\n",
       "      <th>64</th>\n",
       "      <td>2</td>\n",
       "      <td>12</td>\n",
       "      <td>alpha_mentor_</td>\n",
       "      <td>Double TAP if you support this message &amp; TAG w...</td>\n",
       "      <td>89</td>\n",
       "      <td>#mentoring #enterprenuership #grind#hustle #le...</td>\n",
       "      <td>2 hours</td>\n",
       "      <td>19</td>\n",
       "    </tr>\n",
       "  </tbody>\n",
       "</table>\n",
       "</div>"
      ],
      "text/plain": [
       "    Unnamed: 0  S.No         USERNAME  \\\n",
       "34           7    17  gsmusicgroupllc   \n",
       "17          17    22        ale_borba   \n",
       "87           0     9     onlyonecoops   \n",
       "18          18    23      amjstaffing   \n",
       "64           2    12    alpha_mentor_   \n",
       "\n",
       "                                              Caption  Followers  \\\n",
       "34  gsmusicgroupllc#Repost @savageland32with @get_...        226   \n",
       "17  Let's talk about ML Kit for our Google Play Pa...        520   \n",
       "87  Love coaching these boys! Hard working, dedica...        262   \n",
       "18  Shout out to #LinkedIn for the awesome lunch-n...         75   \n",
       "64  Double TAP if you support this message & TAG w...         89   \n",
       "\n",
       "                                             Hashtags Time since posted  Likes  \n",
       "34  #youtube #applemusic #itunes#soundcloud #spinr...           2 hours    273  \n",
       "17  #MxPartnerDay #MLKit #machinelearning#android ...           4 hours     46  \n",
       "87  #grassroots #development#kidsplayingfootball #...           2 hours      9  \n",
       "18  #engineer #machinelearning #automotive#automat...           4 hours     30  \n",
       "64  #mentoring #enterprenuership #grind#hustle #le...           2 hours     19  "
      ]
     },
     "execution_count": 3,
     "metadata": {},
     "output_type": "execute_result"
    }
   ],
   "source": [
    "data.sample(5)"
   ]
  },
  {
   "cell_type": "code",
   "execution_count": 4,
   "metadata": {},
   "outputs": [],
   "source": [
    "data.drop('Caption', axis=1, inplace=True)"
   ]
  },
  {
   "cell_type": "code",
   "execution_count": 5,
   "metadata": {},
   "outputs": [
    {
     "name": "stderr",
     "output_type": "stream",
     "text": [
      "<>:1: SyntaxWarning: invalid escape sequence '\\d'\n",
      "<>:1: SyntaxWarning: invalid escape sequence '\\d'\n",
      "C:\\Users\\Rishav\\AppData\\Local\\Temp\\ipykernel_23640\\2562841274.py:1: SyntaxWarning: invalid escape sequence '\\d'\n",
      "  data['Time since posted'] = data['Time since posted'].str.extract('(\\d+)').astype(int)\n"
     ]
    }
   ],
   "source": [
    "data['Time since posted'] = data['Time since posted'].str.extract('(\\d+)').astype(int)"
   ]
  },
  {
   "cell_type": "code",
   "execution_count": 6,
   "metadata": {},
   "outputs": [
    {
     "data": {
      "text/html": [
       "<div>\n",
       "<style scoped>\n",
       "    .dataframe tbody tr th:only-of-type {\n",
       "        vertical-align: middle;\n",
       "    }\n",
       "\n",
       "    .dataframe tbody tr th {\n",
       "        vertical-align: top;\n",
       "    }\n",
       "\n",
       "    .dataframe thead th {\n",
       "        text-align: right;\n",
       "    }\n",
       "</style>\n",
       "<table border=\"1\" class=\"dataframe\">\n",
       "  <thead>\n",
       "    <tr style=\"text-align: right;\">\n",
       "      <th></th>\n",
       "      <th>Unnamed: 0</th>\n",
       "      <th>S.No</th>\n",
       "      <th>USERNAME</th>\n",
       "      <th>Followers</th>\n",
       "      <th>Hashtags</th>\n",
       "      <th>Time since posted</th>\n",
       "      <th>Likes</th>\n",
       "    </tr>\n",
       "  </thead>\n",
       "  <tbody>\n",
       "    <tr>\n",
       "      <th>33</th>\n",
       "      <td>6</td>\n",
       "      <td>15</td>\n",
       "      <td>cryptocrackhead</td>\n",
       "      <td>610</td>\n",
       "      <td>#cryptocrackhead#blockchain#cryptocurrency #cr...</td>\n",
       "      <td>2</td>\n",
       "      <td>30</td>\n",
       "    </tr>\n",
       "    <tr>\n",
       "      <th>14</th>\n",
       "      <td>14</td>\n",
       "      <td>18</td>\n",
       "      <td>ansonmccade</td>\n",
       "      <td>2904</td>\n",
       "      <td>#blockchaintechnology #blockchains #tech#techn...</td>\n",
       "      <td>3</td>\n",
       "      <td>28</td>\n",
       "    </tr>\n",
       "    <tr>\n",
       "      <th>52</th>\n",
       "      <td>13</td>\n",
       "      <td>21</td>\n",
       "      <td>opensourcedworkplace</td>\n",
       "      <td>348</td>\n",
       "      <td>#HR #workplace#officedesign #iot #bigdata #off...</td>\n",
       "      <td>4</td>\n",
       "      <td>17</td>\n",
       "    </tr>\n",
       "    <tr>\n",
       "      <th>43</th>\n",
       "      <td>4</td>\n",
       "      <td>12</td>\n",
       "      <td>artificial_quotes</td>\n",
       "      <td>914</td>\n",
       "      <td>#quote #quotes #quoteoftheday#quoteoftheday #q...</td>\n",
       "      <td>2</td>\n",
       "      <td>81</td>\n",
       "    </tr>\n",
       "    <tr>\n",
       "      <th>24</th>\n",
       "      <td>24</td>\n",
       "      <td>28</td>\n",
       "      <td>data_enthusiast</td>\n",
       "      <td>166</td>\n",
       "      <td>#data_enthusiast #dataanalytics#datascientist ...</td>\n",
       "      <td>2</td>\n",
       "      <td>10</td>\n",
       "    </tr>\n",
       "  </tbody>\n",
       "</table>\n",
       "</div>"
      ],
      "text/plain": [
       "    Unnamed: 0  S.No              USERNAME  Followers  \\\n",
       "33           6    15       cryptocrackhead        610   \n",
       "14          14    18           ansonmccade       2904   \n",
       "52          13    21  opensourcedworkplace        348   \n",
       "43           4    12     artificial_quotes        914   \n",
       "24          24    28       data_enthusiast        166   \n",
       "\n",
       "                                             Hashtags  Time since posted  \\\n",
       "33  #cryptocrackhead#blockchain#cryptocurrency #cr...                  2   \n",
       "14  #blockchaintechnology #blockchains #tech#techn...                  3   \n",
       "52  #HR #workplace#officedesign #iot #bigdata #off...                  4   \n",
       "43  #quote #quotes #quoteoftheday#quoteoftheday #q...                  2   \n",
       "24  #data_enthusiast #dataanalytics#datascientist ...                  2   \n",
       "\n",
       "    Likes  \n",
       "33     30  \n",
       "14     28  \n",
       "52     17  \n",
       "43     81  \n",
       "24     10  "
      ]
     },
     "execution_count": 6,
     "metadata": {},
     "output_type": "execute_result"
    }
   ],
   "source": [
    "data.sample(5)"
   ]
  },
  {
   "cell_type": "code",
   "execution_count": 7,
   "metadata": {},
   "outputs": [
    {
     "data": {
      "text/plain": [
       "Unnamed: 0           0\n",
       "S.No                 0\n",
       "USERNAME             0\n",
       "Followers            0\n",
       "Hashtags             0\n",
       "Time since posted    0\n",
       "Likes                0\n",
       "dtype: int64"
      ]
     },
     "execution_count": 7,
     "metadata": {},
     "output_type": "execute_result"
    }
   ],
   "source": [
    "data.isnull().sum()"
   ]
  },
  {
   "cell_type": "code",
   "execution_count": 8,
   "metadata": {},
   "outputs": [],
   "source": [
    "data.dropna(inplace=True)"
   ]
  },
  {
   "cell_type": "code",
   "execution_count": 9,
   "metadata": {},
   "outputs": [
    {
     "data": {
      "text/plain": [
       "Unnamed: 0           0\n",
       "S.No                 0\n",
       "USERNAME             0\n",
       "Followers            0\n",
       "Hashtags             0\n",
       "Time since posted    0\n",
       "Likes                0\n",
       "dtype: int64"
      ]
     },
     "execution_count": 9,
     "metadata": {},
     "output_type": "execute_result"
    }
   ],
   "source": [
    "data.isnull().sum()"
   ]
  },
  {
   "cell_type": "code",
   "execution_count": 10,
   "metadata": {},
   "outputs": [],
   "source": [
    "X = data[['Followers', ]]\n",
    "y_likes = data['Likes']\n",
    "y_time_since_posted = data['Time since posted']"
   ]
  },
  {
   "cell_type": "code",
   "execution_count": 11,
   "metadata": {},
   "outputs": [],
   "source": [
    "#Spliting data into train and test sets\n",
    "X_train, X_test, y_likes_train, y_likes_test, y_time_train, y_time_test = train_test_split(X, y_likes, y_time_since_posted, test_size=0.2, random_state=42)"
   ]
  },
  {
   "cell_type": "code",
   "execution_count": 12,
   "metadata": {},
   "outputs": [],
   "source": [
    "rf_likes = RandomForestRegressor()\n",
    "rf_likes.fit(X_train, y_likes_train)\n",
    "likes_predictions = rf_likes.predict(X_test)\n",
    "\n",
    "rf_time = RandomForestRegressor()\n",
    "rf_time.fit(X_train, y_time_train)\n",
    "time_predictions = rf_time.predict(X_test)"
   ]
  },
  {
   "cell_type": "code",
   "execution_count": 13,
   "metadata": {},
   "outputs": [
    {
     "name": "stdout",
     "output_type": "stream",
     "text": [
      "mean squared error of Likes: 331.8962143944445\n",
      "mean squared error of Time since posted: 4.961486497222222\n"
     ]
    }
   ],
   "source": [
    "\n",
    "likes_mse = mean_squared_error(y_likes_test, likes_predictions)\n",
    "time_mse = mean_squared_error(y_time_test, time_predictions)\n",
    "\n",
    "print(\"mean squared error of Likes:\", likes_mse)\n",
    "print(\"mean squared error of Time since posted:\", time_mse)"
   ]
  }
 ],
 "metadata": {
  "kernelspec": {
   "display_name": "Python 3",
   "language": "python",
   "name": "python3"
  },
  "language_info": {
   "codemirror_mode": {
    "name": "ipython",
    "version": 3
   },
   "file_extension": ".py",
   "mimetype": "text/x-python",
   "name": "python",
   "nbconvert_exporter": "python",
   "pygments_lexer": "ipython3",
   "version": "3.12.1"
  }
 },
 "nbformat": 4,
 "nbformat_minor": 2
}
