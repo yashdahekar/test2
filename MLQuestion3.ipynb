{
 "cells": [
  {
   "cell_type": "code",
   "execution_count": 6,
   "metadata": {},
   "outputs": [],
   "source": [
    "from sklearn.datasets import load_wine\n",
    "from sklearn.model_selection import train_test_split, RandomizedSearchCV, ShuffleSplit\n",
    "from sklearn.tree import DecisionTreeClassifier\n",
    "from sklearn.ensemble import RandomForestClassifier\n",
    "from scipy.stats import randint\n",
    "from sklearn.metrics import accuracy_score\n",
    "import numpy as np"
   ]
  },
  {
   "cell_type": "code",
   "execution_count": 7,
   "metadata": {},
   "outputs": [],
   "source": [
    "# Step 1: Load the wine dataset\n",
    "wine = load_wine()\n",
    "X = wine.data\n",
    "y = wine.target"
   ]
  },
  {
   "cell_type": "code",
   "execution_count": 8,
   "metadata": {},
   "outputs": [],
   "source": [
    "# Step 2: Split the dataset into train and test dataset\n",
    "X_train, X_test, y_train, y_test = train_test_split(X, y, test_size=0.2, random_state=42)"
   ]
  },
  {
   "cell_type": "code",
   "execution_count": 9,
   "metadata": {},
   "outputs": [
    {
     "name": "stdout",
     "output_type": "stream",
     "text": [
      "Best parameters for Decision Tree: {'criterion': 'gini', 'max_depth': 3, 'max_features': 7, 'min_samples_leaf': 2}\n"
     ]
    }
   ],
   "source": [
    "\n",
    "# Step 3: Hyperparameter tuning using RandomizedSearchCV for Decision Tree\n",
    "param_dist = {\"max_depth\": [3, None],\n",
    "              \"max_features\": randint(1, 9),\n",
    "              \"min_samples_leaf\": randint(1, 9),\n",
    "              \"criterion\": [\"gini\", \"entropy\"]}\n",
    "\n",
    "tree = DecisionTreeClassifier()\n",
    "random_search = RandomizedSearchCV(tree, param_distributions=param_dist, n_iter=100, random_state=42)\n",
    "random_search.fit(X_train, y_train)\n",
    "\n",
    "best_tree = random_search.best_estimator_\n",
    "\n",
    "print(\"Best parameters for Decision Tree:\", random_search.best_params_)"
   ]
  },
  {
   "cell_type": "code",
   "execution_count": 11,
   "metadata": {},
   "outputs": [
    {
     "name": "stdout",
     "output_type": "stream",
     "text": [
      "Accuracy of Decision Tree: 0.8888888888888888\n"
     ]
    }
   ],
   "source": [
    "\n",
    "# Evaluate the accuracy of the best Decision Tree\n",
    "y_pred_tree = best_tree.predict(X_test)\n",
    "accuracy_tree = accuracy_score(y_test, y_pred_tree)\n",
    "print(\"Accuracy of Decision Tree:\", accuracy_tree)\n"
   ]
  },
  {
   "cell_type": "code",
   "execution_count": 12,
   "metadata": {},
   "outputs": [],
   "source": [
    "# Step 4: Grow a random forest\n",
    "# Create 10 subsets of the training dataset using ShuffleSplit\n",
    "ss = ShuffleSplit(n_splits=10, train_size=0.8, random_state=42)"
   ]
  },
  {
   "cell_type": "code",
   "execution_count": 13,
   "metadata": {},
   "outputs": [
    {
     "name": "stdout",
     "output_type": "stream",
     "text": [
      "Accuracy of Random Forest: 0.9222222222222222\n"
     ]
    }
   ],
   "source": [
    "# Train 10 decision trees on each subset\n",
    "forest = []\n",
    "for train_index, _ in ss.split(X_train):\n",
    "    tree = DecisionTreeClassifier(**random_search.best_params_)\n",
    "    tree.fit(X_train[train_index], y_train[train_index])\n",
    "    forest.append(tree)\n",
    "\n",
    "# Evaluate all the trees on the test dataset\n",
    "accuracy_forest = []\n",
    "for tree in forest:\n",
    "    y_pred_tree = tree.predict(X_test)\n",
    "    accuracy_forest.append(accuracy_score(y_test, y_pred_tree))\n",
    "\n",
    "print(\"Accuracy of Random Forest:\", np.mean(accuracy_forest))"
   ]
  },
  {
   "cell_type": "code",
   "execution_count": null,
   "metadata": {},
   "outputs": [],
   "source": []
  }
 ],
 "metadata": {
  "kernelspec": {
   "display_name": "Python 3",
   "language": "python",
   "name": "python3"
  },
  "language_info": {
   "codemirror_mode": {
    "name": "ipython",
    "version": 3
   },
   "file_extension": ".py",
   "mimetype": "text/x-python",
   "name": "python",
   "nbconvert_exporter": "python",
   "pygments_lexer": "ipython3",
   "version": "3.12.1"
  }
 },
 "nbformat": 4,
 "nbformat_minor": 2
}
