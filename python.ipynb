{
 "cells": [
  {
   "cell_type": "markdown",
   "metadata": {},
   "source": [
    "# Question 1 "
   ]
  },
  {
   "cell_type": "code",
   "execution_count": 1,
   "metadata": {},
   "outputs": [
    {
     "name": "stdout",
     "output_type": "stream",
     "text": [
      "{'abc.def.ghi.jkl.mno.pqr.stu.vwx.yz': ['you are finally here !!!', 'abc.def.ghi.jkl.mno.pqr.stu.vwx.yz'], 'def.ghi.jkl.mno.pqr.stu.vwx.yz': ['abc.def.ghi.jkl.mno.pqr.stu.vwx.yz'], 'ghi.jkl.mno.pqr.stu.vwx.yz': ['abc.def.ghi.jkl.mno.pqr.stu.vwx.yz'], 'jkl.mno.pqr.stu.vwx.yz': ['abc.def.ghi.jkl.mno.pqr.stu.vwx.yz'], 'mno.pqr.stu.vwx.yz': ['abc.def.ghi.jkl.mno.pqr.stu.vwx.yz'], 'pqr.stu.vwx.yz': ['abc.def.ghi.jkl.mno.pqr.stu.vwx.yz'], 'stu.vwx.yz': ['abc.def.ghi.jkl.mno.pqr.stu.vwx.yz'], 'vwx.yz': ['abc.def.ghi.jkl.mno.pqr.stu.vwx.yz'], 'yz': ['abc.def.ghi.jkl.mno.pqr.stu.vwx.yz']}\n"
     ]
    }
   ],
   "source": [
    "def transform_input(input_dict, prefix=None):\n",
    "    if prefix is None:\n",
    "        prefix = []\n",
    "\n",
    "    output = {}\n",
    "    for key, value in input_dict.items():\n",
    "        if isinstance(value, dict):\n",
    "            sub_output = transform_input(value, prefix + [key])\n",
    "            output.update(sub_output)\n",
    "        else:\n",
    "            flat_key = '.'.join(prefix + [key])\n",
    "            output[flat_key] = value\n",
    "            sub_keys = prefix + [key]\n",
    "            for i in range(len(sub_keys)):\n",
    "                sub_key = '.'.join(sub_keys[i:])\n",
    "                if sub_key not in output:\n",
    "                    output[sub_key] = [flat_key]\n",
    "                else:\n",
    "                    output[sub_key] = [output[sub_key], flat_key]  # Ensure it's a list\n",
    "    return output\n",
    "\n",
    "input_dict = {\"abc\":{\"def\":{\"ghi\":{\"jkl\":{\"mno\":{\"pqr\":{\"stu\":{\"vwx\":{\"yz\":\"you are finally here !!!\"}}}}}}}}}\n",
    "\n",
    "output = transform_input(input_dict)\n",
    "print(output)"
   ]
  },
  {
   "cell_type": "markdown",
   "metadata": {},
   "source": [
    "# Question 2"
   ]
  },
  {
   "cell_type": "code",
   "execution_count": 2,
   "metadata": {},
   "outputs": [
    {
     "name": "stdout",
     "output_type": "stream",
     "text": [
      "3\n"
     ]
    }
   ],
   "source": [
    "def largest_min_distance(arr, k):\n",
    "    arr.sort()\n",
    "    left, right = 0, arr[-1]\n",
    "    \n",
    "    while left < right:\n",
    "        mid = (left + right + 1) // 2\n",
    "        count = 1\n",
    "        prev = arr[0]\n",
    "        \n",
    "        for i in range(1, len(arr)):\n",
    "            if arr[i] - prev >= mid:\n",
    "                count += 1\n",
    "                prev = arr[i]\n",
    "        \n",
    "        if count >= k:\n",
    "            left = mid\n",
    "        else:\n",
    "            right = mid - 1\n",
    "    \n",
    "    return left\n",
    "\n",
    "\n",
    "arr = [1, 2, 4, 8, 9]\n",
    "k = 3\n",
    "print(largest_min_distance(arr, k))"
   ]
  },
  {
   "cell_type": "markdown",
   "metadata": {},
   "source": [
    "# Question 3"
   ]
  },
  {
   "cell_type": "code",
   "execution_count": 17,
   "metadata": {},
   "outputs": [
    {
     "name": "stdout",
     "output_type": "stream",
     "text": [
      "---------.|.---------\n",
      "------.|..|..|.------\n",
      "---.|..|..|..|..|.---\n",
      "-------WELCOME-------\n",
      "---.|..|..|..|..|.---\n",
      "------.|..|..|.------\n",
      "---------.|.---------\n"
     ]
    }
   ],
   "source": [
    "def door_mat_dim(N):\n",
    "  if N % 2 == 0:\n",
    "    return \"N must be an odd number.\"\n",
    "  M = 3 * N\n",
    "  pattern = [('.|.' * (2 * i + 1)).center(M, '-') for i in range(N // 2)]\n",
    "  welcome_line = 'WELCOME'.center(M, '-')\n",
    "  pattern.append(welcome_line)  \n",
    "\n",
    "  # Create the mirrored pattern without the welcome message\n",
    "  mirrored_pattern = pattern[::-1][1:]  # Excluding the first element (welcome line)\n",
    "\n",
    "  pattern += mirrored_pattern\n",
    "  return '\\n'.join(pattern)\n",
    "\n",
    "def main():\n",
    "  N = int(input(\"Enter the number of rows (must be odd): \"))\n",
    "  print(door_mat_dim(N))\n",
    "\n",
    "if __name__ == \"__main__\":\n",
    "  main()"
   ]
  },
  {
   "cell_type": "markdown",
   "metadata": {},
   "source": [
    "# Question 4"
   ]
  },
  {
   "cell_type": "code",
   "execution_count": 5,
   "metadata": {},
   "outputs": [
    {
     "name": "stdout",
     "output_type": "stream",
     "text": [
      "[[-2, -1, 1, 2], [-2, 0, 0, 2], [-1, 0, 0, 1]]\n"
     ]
    }
   ],
   "source": [
    "def find_unique_quadruplets(arr, target):\n",
    "    arr.sort()\n",
    "    n = len(arr)\n",
    "    result = []\n",
    "\n",
    "    for i in range(n - 3):\n",
    "        if i > 0 and arr[i] == arr[i - 1]:\n",
    "            continue\n",
    "        for j in range(i + 1, n - 2):\n",
    "            if j > i + 1 and arr[j] == arr[j - 1]:\n",
    "                continue\n",
    "            left, right = j + 1, n - 1\n",
    "\n",
    "            while left < right:\n",
    "                total = arr[i] + arr[j] + arr[left] + arr[right]\n",
    "                if total == target:\n",
    "                    result.append([arr[i], arr[j], arr[left], arr[right]])\n",
    "                    while left < right and arr[left] == arr[left + 1]:\n",
    "                        left += 1\n",
    "                    while left < right and arr[right] == arr[right - 1]:\n",
    "                        right -= 1\n",
    "                    left += 1\n",
    "                    right -= 1\n",
    "                elif total < target:\n",
    "                    left += 1\n",
    "                else:\n",
    "                    right -= 1\n",
    "\n",
    "    return result\n",
    "\n",
    "\n",
    "numbers = [1, 0, -1, 0, -2, 2]\n",
    "target_value = 0\n",
    "print(find_unique_quadruplets(numbers, target_value))"
   ]
  }
 ],
 "metadata": {
  "kernelspec": {
   "display_name": "Python 3",
   "language": "python",
   "name": "python3"
  },
  "language_info": {
   "codemirror_mode": {
    "name": "ipython",
    "version": 3
   },
   "file_extension": ".py",
   "mimetype": "text/x-python",
   "name": "python",
   "nbconvert_exporter": "python",
   "pygments_lexer": "ipython3",
   "version": "3.11.5"
  }
 },
 "nbformat": 4,
 "nbformat_minor": 2
}
