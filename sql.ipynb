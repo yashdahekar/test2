{
 "cells": [
  {
   "cell_type": "markdown",
   "metadata": {},
   "source": [
    "# Question 1 "
   ]
  },
  {
   "cell_type": "code",
   "execution_count": null,
   "metadata": {
    "vscode": {
     "languageId": "plaintext"
    }
   },
   "outputs": [],
   "source": [
    "It will return the details corresponding to the ids 1 , 4 and 5 from runners table.\n",
    "\n",
    "\n",
    "SELECT r.id, r.name FROM runners r LEFT JOIN races ra ON r.id = ra.winner_id WHERE ra.winner_id IS NULL;"
   ]
  },
  {
   "cell_type": "markdown",
   "metadata": {},
   "source": [
    "# Question 2"
   ]
  },
  {
   "cell_type": "code",
   "execution_count": null,
   "metadata": {
    "vscode": {
     "languageId": "plaintext"
    }
   },
   "outputs": [],
   "source": [
    "SELECT id FROM test_a a WHERE (SELECT COUNT(*) FROM test_b b WHERE b.id = a.id) = 0;"
   ]
  },
  {
   "cell_type": "markdown",
   "metadata": {},
   "source": [
    "# Question 3"
   ]
  },
  {
   "cell_type": "code",
   "execution_count": null,
   "metadata": {
    "vscode": {
     "languageId": "plaintext"
    }
   },
   "outputs": [],
   "source": [
    "SELECT u.user_id, username, training_id, training_date \n",
    "FROM users\n",
    "INNER JOIN \n",
    "( SELECT user_id, training_id, training_date, COUNT(*) AS count \n",
    "FROM training_details\n",
    "GROUP BY user_id, training_id, training_date \n",
    "HAVING COUNT(*) > 1 ) \n",
    "AS t ON u.user_id = t.user_id \n",
    "ORDER BY t.user_id, t.training_id, t.training_date DESC;"
   ]
  },
  {
   "cell_type": "markdown",
   "metadata": {},
   "source": [
    "# Question 4"
   ]
  }
 ],
 "metadata": {
  "language_info": {
   "name": "python"
  }
 },
 "nbformat": 4,
 "nbformat_minor": 2
}
